{
 "cells": [
  {
   "cell_type": "markdown",
   "id": "c5c9b1fc-a301-4b58-b70a-4b73d69e0988",
   "metadata": {},
   "source": [
    "# Pandas Challange: Assignment 2\n",
    "\n",
    "1. Create a new Jupyter Notebook before reading the required material\n",
    "2. Import pandas as pd and create a new DataFrame with three columns and three rows.\n",
    "- The content of this DataFrame can be anything you choose\n",
    "4. View the head of the DataFrame\n",
    "5. View the index of the DataFrame\n",
    "6. Select and view the first column of the DataFrame\n",
    "7. Select and view the first row of the DataFrame\n",
    "8. Write the DataFrame to a new CSV file saved in your assignment folder\n",
    "9. In a Markdown cell, answer this question based on the content from Murray (2017) Chapter 1:\n",
    "- Why are dynamic, interactive data visualizations useful when communicating data?"
   ]
  },
  {
   "cell_type": "markdown",
   "id": "5b35facd-4bd6-462d-b849-264f9f26e156",
   "metadata": {},
   "source": [
    "### 2. Import pandas as pd and create a new DataFrame with three columns and three rows."
   ]
  },
  {
   "cell_type": "code",
   "execution_count": 1,
   "id": "fd0faaa9-70e2-427e-9ffc-af452b27313c",
   "metadata": {},
   "outputs": [
    {
     "name": "stdout",
     "output_type": "stream",
     "text": [
      "Intel MKL WARNING: Support of Intel(R) Streaming SIMD Extensions 4.2 (Intel(R) SSE4.2) enabled only processors has been deprecated. Intel oneAPI Math Kernel Library 2025.0 will require Intel(R) Advanced Vector Extensions (Intel(R) AVX) instructions.\n",
      "Intel MKL WARNING: Support of Intel(R) Streaming SIMD Extensions 4.2 (Intel(R) SSE4.2) enabled only processors has been deprecated. Intel oneAPI Math Kernel Library 2025.0 will require Intel(R) Advanced Vector Extensions (Intel(R) AVX) instructions.\n"
     ]
    }
   ],
   "source": [
    "# 1.) Create a new Jupyter Notebook before reading the required material\n",
    "# 2.) Import pandas as pd and create a new DataFrame with three columns and three rows.\n",
    "\n",
    "import pandas as pd"
   ]
  },
  {
   "cell_type": "markdown",
   "id": "4df8dc48-b12c-458d-89ad-5023e4a4cac0",
   "metadata": {},
   "source": [
    "### 3.The content of this DataFrame can be anything you choose\n",
    "\n"
   ]
  },
  {
   "cell_type": "code",
   "execution_count": 2,
   "id": "f2af987b-a642-4d44-83bf-37908c9bf430",
   "metadata": {},
   "outputs": [
    {
     "data": {
      "text/html": [
       "<div>\n",
       "<style scoped>\n",
       "    .dataframe tbody tr th:only-of-type {\n",
       "        vertical-align: middle;\n",
       "    }\n",
       "\n",
       "    .dataframe tbody tr th {\n",
       "        vertical-align: top;\n",
       "    }\n",
       "\n",
       "    .dataframe thead th {\n",
       "        text-align: right;\n",
       "    }\n",
       "</style>\n",
       "<table border=\"1\" class=\"dataframe\">\n",
       "  <thead>\n",
       "    <tr style=\"text-align: right;\">\n",
       "      <th></th>\n",
       "      <th>a</th>\n",
       "      <th>b</th>\n",
       "      <th>c</th>\n",
       "    </tr>\n",
       "  </thead>\n",
       "  <tbody>\n",
       "    <tr>\n",
       "      <th>0</th>\n",
       "      <td>3</td>\n",
       "      <td>4</td>\n",
       "      <td>7</td>\n",
       "    </tr>\n",
       "    <tr>\n",
       "      <th>1</th>\n",
       "      <td>9</td>\n",
       "      <td>14</td>\n",
       "      <td>27</td>\n",
       "    </tr>\n",
       "    <tr>\n",
       "      <th>2</th>\n",
       "      <td>12</td>\n",
       "      <td>24</td>\n",
       "      <td>47</td>\n",
       "    </tr>\n",
       "  </tbody>\n",
       "</table>\n",
       "</div>"
      ],
      "text/plain": [
       "    a   b   c\n",
       "0   3   4   7\n",
       "1   9  14  27\n",
       "2  12  24  47"
      ]
     },
     "execution_count": 2,
     "metadata": {},
     "output_type": "execute_result"
    }
   ],
   "source": [
    "#create a new DataFrame with three columns and three rows.\n",
    "Data_Dict={'a':[3,9,12],'b':[4,14,24],'c':[7,27,47]}\n",
    "Data_DictDF=pd.DataFrame(Data_Dict)\n",
    "Data_DictDF"
   ]
  },
  {
   "cell_type": "markdown",
   "id": "8426b4ae-fb41-44bc-9e4c-6e7becff88ce",
   "metadata": {},
   "source": [
    "### 4. View the head of the DataFrame"
   ]
  },
  {
   "cell_type": "code",
   "execution_count": 16,
   "id": "f4c7831f-9c8e-4eab-9ce7-94a7800583c7",
   "metadata": {},
   "outputs": [
    {
     "data": {
      "text/html": [
       "<div>\n",
       "<style scoped>\n",
       "    .dataframe tbody tr th:only-of-type {\n",
       "        vertical-align: middle;\n",
       "    }\n",
       "\n",
       "    .dataframe tbody tr th {\n",
       "        vertical-align: top;\n",
       "    }\n",
       "\n",
       "    .dataframe thead th {\n",
       "        text-align: right;\n",
       "    }\n",
       "</style>\n",
       "<table border=\"1\" class=\"dataframe\">\n",
       "  <thead>\n",
       "    <tr style=\"text-align: right;\">\n",
       "      <th></th>\n",
       "      <th>a</th>\n",
       "      <th>b</th>\n",
       "      <th>c</th>\n",
       "    </tr>\n",
       "  </thead>\n",
       "  <tbody>\n",
       "    <tr>\n",
       "      <th>0</th>\n",
       "      <td>3</td>\n",
       "      <td>4</td>\n",
       "      <td>7</td>\n",
       "    </tr>\n",
       "    <tr>\n",
       "      <th>1</th>\n",
       "      <td>9</td>\n",
       "      <td>14</td>\n",
       "      <td>27</td>\n",
       "    </tr>\n",
       "  </tbody>\n",
       "</table>\n",
       "</div>"
      ],
      "text/plain": [
       "   a   b   c\n",
       "0  3   4   7\n",
       "1  9  14  27"
      ]
     },
     "execution_count": 16,
     "metadata": {},
     "output_type": "execute_result"
    }
   ],
   "source": [
    "Data_DictDF.head(2)"
   ]
  },
  {
   "cell_type": "markdown",
   "id": "fb287c5d-4872-479b-877e-96870cbb264b",
   "metadata": {},
   "source": [
    "### 5. View the index of the DataFrame.\n"
   ]
  },
  {
   "cell_type": "code",
   "execution_count": 3,
   "id": "b754b9d1-9fff-496d-a59e-52211941b6a4",
   "metadata": {},
   "outputs": [
    {
     "data": {
      "text/plain": [
       "RangeIndex(start=0, stop=3, step=1)"
      ]
     },
     "execution_count": 3,
     "metadata": {},
     "output_type": "execute_result"
    }
   ],
   "source": [
    "Data_DictDF.index"
   ]
  },
  {
   "cell_type": "markdown",
   "id": "cef38f7e-ed1a-4518-8fef-42907baa47f7",
   "metadata": {},
   "source": [
    "### 6. Select and view the first column of the DataFrame\n"
   ]
  },
  {
   "cell_type": "code",
   "execution_count": 7,
   "id": "0bcdcc90-e1d2-46cf-a12d-5c4ad838a735",
   "metadata": {},
   "outputs": [
    {
     "data": {
      "text/plain": [
       "0     3\n",
       "1     9\n",
       "2    12\n",
       "Name: a, dtype: int64"
      ]
     },
     "execution_count": 7,
     "metadata": {},
     "output_type": "execute_result"
    }
   ],
   "source": [
    "Data_DictDF['a']"
   ]
  },
  {
   "cell_type": "markdown",
   "id": "2020b689-41a1-4735-9cf9-d92fe80b36fb",
   "metadata": {},
   "source": [
    "###  7. Select and view the first row of the DataFrame\n"
   ]
  },
  {
   "cell_type": "code",
   "execution_count": 13,
   "id": "87dda95b-d779-4421-964e-cf0c202cc8b9",
   "metadata": {},
   "outputs": [
    {
     "data": {
      "text/plain": [
       "a    3\n",
       "b    4\n",
       "c    7\n",
       "Name: 0, dtype: int64"
      ]
     },
     "execution_count": 13,
     "metadata": {},
     "output_type": "execute_result"
    }
   ],
   "source": [
    "Data_DictDF.iloc[0]"
   ]
  },
  {
   "cell_type": "code",
   "execution_count": 14,
   "id": "35dfa210-d633-49be-a300-1b3a593737c0",
   "metadata": {},
   "outputs": [
    {
     "data": {
      "text/plain": [
       "a    3\n",
       "b    4\n",
       "c    7\n",
       "Name: 0, dtype: int64"
      ]
     },
     "execution_count": 14,
     "metadata": {},
     "output_type": "execute_result"
    }
   ],
   "source": [
    "a=Data_DictDF.iloc[0]\n",
    "a"
   ]
  },
  {
   "cell_type": "markdown",
   "id": "b1570f5b-630a-453c-bdae-025f23e36ac9",
   "metadata": {},
   "source": [
    "### 8. Write the DataFrame to a new CSV file saved in your assignment folder\n"
   ]
  },
  {
   "cell_type": "code",
   "execution_count": 18,
   "id": "2f8d4788-226b-4f30-aedf-91f0933cbd3c",
   "metadata": {},
   "outputs": [
    {
     "data": {
      "text/html": [
       "<div>\n",
       "<style scoped>\n",
       "    .dataframe tbody tr th:only-of-type {\n",
       "        vertical-align: middle;\n",
       "    }\n",
       "\n",
       "    .dataframe tbody tr th {\n",
       "        vertical-align: top;\n",
       "    }\n",
       "\n",
       "    .dataframe thead th {\n",
       "        text-align: right;\n",
       "    }\n",
       "</style>\n",
       "<table border=\"1\" class=\"dataframe\">\n",
       "  <thead>\n",
       "    <tr style=\"text-align: right;\">\n",
       "      <th></th>\n",
       "      <th>Unnamed: 0</th>\n",
       "      <th>0</th>\n",
       "    </tr>\n",
       "  </thead>\n",
       "  <tbody>\n",
       "    <tr>\n",
       "      <th>0</th>\n",
       "      <td>a</td>\n",
       "      <td>3</td>\n",
       "    </tr>\n",
       "    <tr>\n",
       "      <th>1</th>\n",
       "      <td>b</td>\n",
       "      <td>4</td>\n",
       "    </tr>\n",
       "    <tr>\n",
       "      <th>2</th>\n",
       "      <td>c</td>\n",
       "      <td>7</td>\n",
       "    </tr>\n",
       "  </tbody>\n",
       "</table>\n",
       "</div>"
      ],
      "text/plain": [
       "  Unnamed: 0  0\n",
       "0          a  3\n",
       "1          b  4\n",
       "2          c  7"
      ]
     },
     "execution_count": 18,
     "metadata": {},
     "output_type": "execute_result"
    }
   ],
   "source": [
    "a.to_csv('a_newcsv.csv')\n",
    "b=pd.read_csv('a_newcsv.csv')\n",
    "b"
   ]
  },
  {
   "cell_type": "markdown",
   "id": "5f75ff0c-d5da-4868-9165-f42d73f07de5",
   "metadata": {},
   "source": [
    "### 9. In a Markdown cell, answer this question based on the content from Murray (2017) Chapter 1:\n",
    "- Why are dynamic, interactive data visualizations useful when communicating data?"
   ]
  },
  {
   "cell_type": "markdown",
   "id": "fcf8c398-e834-48ec-8303-47c7b71cb656",
   "metadata": {},
   "source": [
    "#### Dynamic, interactive data visualizations are valuable because they empower users to explore data independently. Murray emphasizes that static visualizations offer limited perspectives, especially for multidimensional datasets. Interactive tools allow users to navigate through data, employing functions like overview, zoom, filter, and details-on-demand. This flexibility caters to diverse audiences, from casual browsers to those seeking specific insights. Moreover, interactivity fosters engagement by making data exploration akin to a game, enhancing accessibility and interest, even for audiences initially disinterested in the subject matter. Therefore, dynamic visualizations facilitate more immersive and tailored experiences, amplifying comprehension and engagement with the data."
   ]
  },
  {
   "cell_type": "code",
   "execution_count": null,
   "id": "04dcccd6-de03-49e1-9d04-0cd7818b5e10",
   "metadata": {},
   "outputs": [],
   "source": []
  }
 ],
 "metadata": {
  "kernelspec": {
   "display_name": "Python 3 (ipykernel)",
   "language": "python",
   "name": "python3"
  },
  "language_info": {
   "codemirror_mode": {
    "name": "ipython",
    "version": 3
   },
   "file_extension": ".py",
   "mimetype": "text/x-python",
   "name": "python",
   "nbconvert_exporter": "python",
   "pygments_lexer": "ipython3",
   "version": "3.12.1"
  }
 },
 "nbformat": 4,
 "nbformat_minor": 5
}
