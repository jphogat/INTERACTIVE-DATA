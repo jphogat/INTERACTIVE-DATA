{
 "cells": [
  {
   "cell_type": "markdown",
   "id": "f5c09429-d6e3-4e4d-a506-7ca8e63ff088",
   "metadata": {},
   "source": [
    "# To complete this assignment:\n",
    "\n",
    "1. Launch Jupyter Notebooks from the Anaconda Powershell (Windows) or Terminal (iOS)\n",
    "2. Create a course folder\n",
    "3. Create a new .ipynb file\n",
    "4. Rename the .ipynb file as “YourLastName_SystemsCheck.ipynb”\n",
    "5. Create Markdown cells Links to an external site. with multi-level headings, ordered lists, and bold and italics text, and an image – In these cells describe what you hope to get out of this class\n",
    "6. Write and execute code cells demonstrating each of the following Python syntax: variable assignment, a for loop, and a function with a print statement and a return statement"
   ]
  },
  {
   "cell_type": "markdown",
   "id": "4ca07620-aa48-449c-ac62-ce6915118f22",
   "metadata": {},
   "source": [
    "[Canvas link to this Assignment](https://kent.instructure.com/courses/79067/assignments/1185816)"
   ]
  },
  {
   "cell_type": "markdown",
   "id": "35534bb6-6d92-4dfd-8ce1-74cd2d8a91e9",
   "metadata": {},
   "source": [
    "## Commands done in class\n",
    "\n",
    "- conda create --indaa_sp24 python=3.12\n",
    "- conda env list\n",
    "- conda activate indata_sp24\n",
    "- conda deactivate\n",
    "- conda activate indata_sp24\n",
    "- python\n",
    "- pip install notebook\n",
    "- cd indata_sp24\n",
    "- ls"
   ]
  },
  {
   "cell_type": "markdown",
   "id": "6bead76c-51bc-4375-a5b8-3a8fa1adcbf2",
   "metadata": {},
   "source": [
    "\n",
    "**This is bold text**"
   ]
  },
  {
   "cell_type": "markdown",
   "id": "4c60d0ba-272a-4311-930f-082829d17384",
   "metadata": {},
   "source": [
    "*Italics* "
   ]
  },
  {
   "cell_type": "code",
   "execution_count": 9,
   "id": "b4660dea-0fb4-4138-9f08-932e5c42e083",
   "metadata": {},
   "outputs": [
    {
     "name": "stdout",
     "output_type": "stream",
     "text": [
      "5\n"
     ]
    }
   ],
   "source": [
    "x=5\n",
    "print(x)"
   ]
  },
  {
   "cell_type": "code",
   "execution_count": 3,
   "id": "16638314-f8a0-4463-8fa8-e24f73cbe2db",
   "metadata": {},
   "outputs": [
    {
     "name": "stdout",
     "output_type": "stream",
     "text": [
      "1\n",
      "2\n",
      "3\n",
      "4\n",
      "5\n"
     ]
    }
   ],
   "source": [
    "# For loop\n",
    "x=5\n",
    "\n",
    "for i in [1,2,3,4]:\n",
    "    print(i)\n",
    "for i in [x]:\n",
    "    print(i)"
   ]
  },
  {
   "cell_type": "code",
   "execution_count": 5,
   "id": "e3bd9de8-26e9-4ff3-b313-c9f39a38f05b",
   "metadata": {},
   "outputs": [],
   "source": [
    "# functions in python\n",
    "\n",
    "def say_hello(x):\n",
    "    print('hello '+str(x))"
   ]
  },
  {
   "cell_type": "code",
   "execution_count": 6,
   "id": "4d9d0464-d5f9-4ac8-8f75-e975f35aeeed",
   "metadata": {},
   "outputs": [
    {
     "name": "stdout",
     "output_type": "stream",
     "text": [
      "hello Mayansh\n"
     ]
    }
   ],
   "source": [
    "say_hello('Mayansh')"
   ]
  },
  {
   "cell_type": "code",
   "execution_count": 7,
   "id": "aafd951b-dab1-4d82-80c7-c95e4891a9af",
   "metadata": {},
   "outputs": [],
   "source": [
    "# fuction with return\n",
    "\n",
    "def return_hello(x):\n",
    "    y = 'hello '+ x\n",
    "    return y"
   ]
  },
  {
   "cell_type": "code",
   "execution_count": 8,
   "id": "0423fd6a-f036-4d60-8a6f-b49d84ed0914",
   "metadata": {},
   "outputs": [
    {
     "data": {
      "text/plain": [
       "'hello Mayansh'"
      ]
     },
     "execution_count": 8,
     "metadata": {},
     "output_type": "execute_result"
    }
   ],
   "source": [
    "return_hello('Mayansh')"
   ]
  },
  {
   "cell_type": "markdown",
   "id": "34e0cf06-23a1-431a-96a6-d902a4d109a6",
   "metadata": {},
   "source": [
    "# Image\n",
    "![Alternative text](https://cdn-icons-png.flaticon.com/128/1449/1449236.png)"
   ]
  },
  {
   "cell_type": "markdown",
   "id": "d467c84c-3fbc-4bd8-8235-32f2785ee52e",
   "metadata": {},
   "source": [
    "# In the"
   ]
  }
 ],
 "metadata": {
  "kernelspec": {
   "display_name": "Python 3 (ipykernel)",
   "language": "python",
   "name": "python3"
  },
  "language_info": {
   "codemirror_mode": {
    "name": "ipython",
    "version": 3
   },
   "file_extension": ".py",
   "mimetype": "text/x-python",
   "name": "python",
   "nbconvert_exporter": "python",
   "pygments_lexer": "ipython3",
   "version": "3.12.1"
  }
 },
 "nbformat": 4,
 "nbformat_minor": 5
}
